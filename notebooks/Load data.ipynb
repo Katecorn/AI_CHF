{
 "cells": [
  {
   "cell_type": "code",
   "execution_count": 29,
   "id": "3ce34972-3365-4fae-8878-ddbca941bbbe",
   "metadata": {},
   "outputs": [],
   "source": [
    "# !pip install feedparser"
   ]
  },
  {
   "cell_type": "markdown",
   "id": "07ffa42e",
   "metadata": {},
   "source": [
    "## Notebooks for data loading"
   ]
  },
  {
   "cell_type": "code",
   "execution_count": 1,
   "id": "22c51090",
   "metadata": {},
   "outputs": [
    {
     "name": "stderr",
     "output_type": "stream",
     "text": [
      "/Users/admin/Library/Python/3.9/lib/python/site-packages/urllib3/__init__.py:35: NotOpenSSLWarning: urllib3 v2 only supports OpenSSL 1.1.1+, currently the 'ssl' module is compiled with 'LibreSSL 2.8.3'. See: https://github.com/urllib3/urllib3/issues/3020\n",
      "  warnings.warn(\n"
     ]
    }
   ],
   "source": [
    "\n",
    "import requests\n",
    "import pandas as pd\n",
    "import time\n",
    "from datetime import datetime, timedelta\n",
    "\n",
    "import concurrent.futures\n"
   ]
  },
  {
   "cell_type": "markdown",
   "id": "266f6b67-e923-42a7-9466-5e38b1accb1a",
   "metadata": {},
   "source": [
    "Source: **coingecko** + **Binance**"
   ]
  },
  {
   "cell_type": "code",
   "execution_count": 3,
   "id": "d07fbef8-9996-479d-a72a-a7f8d941e771",
   "metadata": {},
   "outputs": [
    {
     "name": "stdout",
     "output_type": "stream",
     "text": [
      "Начинаем сбор данных...\n"
     ]
    }
   ],
   "source": [
    "#––––––––––––––––––––––––––––––––––––––––––––––––––––––––––––––––––––––––––––––––\n",
    "#--- 1. Get top crypto list from coingecko\n",
    "#––––––––––––––––––––––––––––––––––––––––––––––––––––––––––––––––––––––––––––––––\n",
    "def get_top_cryptos(count=1000):\n",
    "    url = \"https://api.coingecko.com/api/v3/coins/markets\"\n",
    "    per_page_limit = 250  \n",
    "\n",
    "    all_coins = []\n",
    "    page = 1\n",
    "    coins_needed = count\n",
    "\n",
    "    while coins_needed > 0:\n",
    "        \n",
    "        batch_size = min(coins_needed, per_page_limit)\n",
    "        \n",
    "        params = {\n",
    "            'vs_currency': 'usd',\n",
    "            'order': 'market_cap_desc',\n",
    "            'per_page': batch_size,\n",
    "            'page': page,\n",
    "            'sparkline': False\n",
    "        }\n",
    "        response = requests.get(url, params=params)\n",
    "        if response.status_code == 200:\n",
    "            data = response.json()\n",
    "            if not data:\n",
    "          \n",
    "                break\n",
    "        \n",
    "            for coin in data:\n",
    "                pair = coin['symbol'].upper() + 'USDT'\n",
    "                all_coins.append(pair)\n",
    "         \n",
    "            coins_needed -= batch_size\n",
    "            page += 1\n",
    "        else:\n",
    "            print(f\"Ошибка получения данных: {response.status_code}\")\n",
    "            break\n",
    "    \n",
    "    return all_coins\n",
    "\n",
    "#––––––––––––––––––––––––––––––––––––––––––––––––––––––––––––––––––––––––––––––––\n",
    "# --- 2. Hourly data from Binance API ---\n",
    "#––––––––––––––––––––––––––––––––––––––––––––––––––––––––––––––––––––––––––––––––\n",
    "def get_binance_historical_data(symbol, interval, start_time, end_time):\n",
    "   \n",
    "    url = \"https://api.binance.com/api/v3/klines\"\n",
    "    params = {\n",
    "        \"symbol\": symbol,\n",
    "        \"interval\": interval,\n",
    "        \"startTime\": start_time,\n",
    "        \"endTime\": end_time,\n",
    "        \"limit\": 1000  \n",
    "    }\n",
    "    response = requests.get(url, params=params)\n",
    "    if response.status_code == 200:\n",
    "        data = response.json()\n",
    "        if not data:  #\n",
    "            print(f\"Нет данных для {symbol} в указанный период.\")\n",
    "            return None\n",
    "        columns = ['Open time', 'Open', 'High', 'Low', 'Close', 'Volume', \n",
    "                   'Close time', 'Quote asset volume', 'Number of trades', \n",
    "                   'Taker buy base asset volume', 'Taker buy quote asset volume', 'Ignore']\n",
    "        df = pd.DataFrame(data, columns=columns)\n",
    "        df['Open time'] = pd.to_datetime(df['Open time'], unit='ms')\n",
    "        return df\n",
    "    else:\n",
    "        print(f\"Ошибка для {symbol}: {response.status_code}\")\n",
    "        return None\n",
    "\n",
    "#––––––––––––––––––––––––––––––––––––––––––––––––––––––––––––––––––––––––––––––––\n",
    "# --- 3. Сбор данных за указанный период ---\n",
    "#––––––––––––––––––––––––––––––––––––––––––––––––––––––––––––––––––––––––––––––––\n",
    "def get_full_historical_data(symbol, interval, start_time, end_time):\n",
    "    \"\"\"\n",
    "    Собирает данные за указанный период.\n",
    "    \"\"\"\n",
    "    all_data = []\n",
    "    while start_time < end_time:\n",
    "        data = get_binance_historical_data(symbol, interval, start_time, end_time)\n",
    "        if data is None or len(data) == 0:\n",
    "            break\n",
    "        all_data.append(data)\n",
    "        start_time = data['Close time'].iloc[-1] + 1  \n",
    "        time.sleep(0.1)  # не превышаем лимит запросов\n",
    "    \n",
    "    if all_data:\n",
    "        return pd.concat(all_data, ignore_index=True)\n",
    "    else:\n",
    "        print(f\"⚠️ Нет данных для {symbol} за указанный период.\")\n",
    "        return None\n",
    "\n",
    "#––––––––––––––––––––––––––––––––––––––––––––––––––––––––––––––––––––––––––––––––\n",
    "# --- 4. Finala pipeline ---\n",
    "#––––––––––––––––––––––––––––––––––––––––––––––––––––––––––––––––––––––––––––––––\n",
    "def collect_data_for_top(start_date, end_date):\n",
    "    top_cryptos = get_top_cryptos()\n",
    "    all_data = []\n",
    "\n",
    "    # преобразование дат\n",
    "    start_time = int(datetime.strptime(start_date, '%Y-%m-%d').timestamp()) * 1000\n",
    "    end_time = int(datetime.strptime(end_date, '%Y-%m-%d').timestamp()) * 1000\n",
    "\n",
    "    for symbol in top_cryptos:\n",
    "        print(f\"Загружаем данные для {symbol}...\")\n",
    "        df = get_full_historical_data(symbol, '1h', start_time, end_time)\n",
    "        if df is not None and not df.empty:\n",
    "            df['symbol'] = symbol  \n",
    "            all_data.append(df)\n",
    "        \n",
    "        time.sleep(1)  \n",
    "\n",
    "    if all_data:\n",
    "        final_df = pd.concat(all_data)\n",
    "        final_df.to_csv(\"cryptos_hourly_data.csv\", index=False)\n",
    "        print(\"Данные сохранены в top_1000_cryptos_hourly_data.csv\")\n",
    "        return final_df\n",
    "    else:\n",
    "        print(\"Не удалось собрать данные.\")\n",
    "        return None\n",
    "\n",
    "#––––––––––––––––––––––––––––––––––––––––––––––––––––––––––––––––––––––––––––––––\n",
    "# - Data collection\n",
    "#––––––––––––––––––––––––––––––––––––––––––––––––––––––––––––––––––––––––––––––––\n",
    "if __name__ == \"__main__\":\n",
    "    \n",
    "    start_date = '2024-01-01'\n",
    "    end_date = '2025-09-17'\n",
    "\n",
    "    print(\"Начинаем сбор данных...\")\n",
    "    df = collect_data_for_top(start_date, end_date)\n",
    "    print(\"Сбор данных завершён!\")"
   ]
  },
  {
   "cell_type": "code",
   "execution_count": 13,
   "id": "2c4d66d8-acdb-45b9-beb2-6703cfd59fc4",
   "metadata": {},
   "outputs": [],
   "source": [
    "# cryp_df = pd.read_csv('top_1000_cryptos_hourly_data.csv')"
   ]
  },
  {
   "cell_type": "code",
   "execution_count": 16,
   "id": "e9c1d394-2023-4350-9283-622d0b89b9f9",
   "metadata": {},
   "outputs": [],
   "source": [
    "# cryp_df = pd.read_csv('top_100_cryptos_hourly_data.csv')"
   ]
  },
  {
   "cell_type": "code",
   "execution_count": null,
   "id": "6aa00d67-25dd-451c-8fb1-abfecc11f938",
   "metadata": {},
   "outputs": [],
   "source": []
  },
  {
   "cell_type": "code",
   "execution_count": null,
   "id": "f0c4cac9-cdbf-43b5-ae42-8eab0a13568e",
   "metadata": {},
   "outputs": [],
   "source": []
  }
 ],
 "metadata": {
  "kernelspec": {
   "display_name": "Python 3 (ipykernel)",
   "language": "python",
   "name": "python3"
  },
  "language_info": {
   "codemirror_mode": {
    "name": "ipython",
    "version": 3
   },
   "file_extension": ".py",
   "mimetype": "text/x-python",
   "name": "python",
   "nbconvert_exporter": "python",
   "pygments_lexer": "ipython3",
   "version": "3.9.6"
  },
  "vscode": {
   "interpreter": {
    "hash": "31f2aee4e71d21fbe5cf8b01ff0e069b9275f58929596ceb00d14d90e3e16cd6"
   }
  }
 },
 "nbformat": 4,
 "nbformat_minor": 5
}
